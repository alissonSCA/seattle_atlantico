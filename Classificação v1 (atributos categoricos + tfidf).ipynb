{
 "cells": [
  {
   "cell_type": "markdown",
   "metadata": {},
   "source": [
    "# Classificação usando atribultos + corpus\n",
    "\n",
    "Nesta seção vamos apresentar os resultados obtidos através de classificadores treinados usando os atributos categoricos e o corpus, sendo este último produzido através do método tfidf.\n",
    "Os algoritmos testados e seus principais hiperparâmetros serão definidos a seguir.\n",
    "\n",
    "### SVMub\n",
    "\n",
    "SVM com kernel linear para dados desbalanceados. Esta técnica permite definir um hiperparâmetro $C$ diferente para cada uma das classes. Uma vez que $C$ alto indica a intenção de não errar a classificação das amostras de treino, enquanto um $C$ baixo aumenta a relevancia de se encontrar uma grande margem de separação, podemos atribuir um $C$ maior para uma das classes tentando reduzir os falso negativos desta, mesmo que isso gere uma menor acuracia (quando considerado todo o dataset). Uma vez que recusar o exame de um paciente que deveria faze-lo pode ter um custo exorbitante, aqui daremos a classe <b>aprovada</b> um peso maior.\n",
    "\n",
    "Atribuimos $C=1$ para a classe <b>recusada</b> e $C=100$ para a classe <b>aprovada</b>.\n",
    "\n",
    "### naiveBayes\n",
    "\n",
    "Algoritmo Naive Bayes com função likelyhood gaussiana.\n",
    "\n",
    "### SVM\n",
    "\n",
    "SVM com kernel linear.\n",
    "\n",
    "### SVM_rbf\n",
    "\n",
    "SVM com kernel RBF.\n",
    "\n",
    "## KNN\n",
    "\n",
    "KNN com k = 10.\n",
    "\n",
    "## Métricas de avaliação\n",
    "\n",
    "Aqui consideraremos duas métricas: acurácia e falso positivo.\n",
    "Na modelagem da saída feita pela biblioteca, o resultado <b>aprovado</b> é representado pelo valor $0$ e o <b>reprovado</b> pelo valor 1. Assim, falso positivo indica que uma amostra que deveria ter sido aprovada e foi recusada, o que significa o pior caso. Assim, avaliaremos o desempenho geral através da acurácia e o desempenho específico do pior caso através dos falsos positivos"
   ]
  },
  {
   "cell_type": "code",
   "execution_count": 3,
   "metadata": {},
   "outputs": [],
   "source": [
    "#encoding:utf-8\n",
    "import pandas as pd\n",
    "import numpy as np\n",
    "import matplotlib.pyplot as plt"
   ]
  },
  {
   "cell_type": "code",
   "execution_count": 4,
   "metadata": {},
   "outputs": [
    {
     "name": "stdout",
     "output_type": "stream",
     "text": [
      "Loading Results...\n",
      "done.\n"
     ]
    }
   ],
   "source": [
    "print(\"Loading Results...\")\n",
    "data = pd.read_csv('./resources/results_v1.csv', sep=\"\\t\")\n",
    "classifiers_name = ('SVM_ub', 'KNN', 'SVM', 'SVM_RBF', 'N. Bayes')\n",
    "columns_name = ('TN', 'FP', 'FN', 'TP', 'ACC')\n",
    "print(\"done.\")"
   ]
  },
  {
   "cell_type": "code",
   "execution_count": 7,
   "metadata": {},
   "outputs": [
    {
     "data": {
      "image/png": "[encoded data removed]",
      "text/plain": [
       "<matplotlib.figure.Figure at 0x7fbe080d83c8>"
      ]
     },
     "metadata": {},
     "output_type": "display_data"
    }
   ],
   "source": [
    "fp = data.iloc[:,1]\n",
    "y_pos = np.arange(len(classifiers_name))\n",
    "\n",
    "plt.title('Falso Positivo')\n",
    "plt.bar(y_pos, fp)\n",
    "plt.xticks(y_pos, classifiers_name)\n",
    "plt.show()"
   ]
  },
  {
   "cell_type": "code",
   "execution_count": 8,
   "metadata": {},
   "outputs": [
    {
     "data": {
      "image/png": "[encoded data removed]",
      "text/plain": [
       "<matplotlib.figure.Figure at 0x7fbe080d84a8>"
      ]
     },
     "metadata": {},
     "output_type": "display_data"
    }
   ],
   "source": [
    "acc = data.iloc[:,4]\n",
    "y_pos = np.arange(len(classifiers_name))\n",
    "\n",
    "plt.title('Acurácia')\n",
    "plt.bar(y_pos, acc)\n",
    "plt.xticks(y_pos, classifiers_name)\n",
    "plt.show()"
   ]
  },
  {
   "cell_type": "code",
   "execution_count": null,
   "metadata": {},
   "outputs": [],
   "source": []
  }
 ],
 "metadata": {
  "kernelspec": {
   "display_name": "Python 3",
   "language": "python",
   "name": "python3"
  },
  "language_info": {
   "codemirror_mode": {
    "name": "ipython",
    "version": 3
   },
   "file_extension": ".py",
   "mimetype": "text/x-python",
   "name": "python",
   "nbconvert_exporter": "python",
   "pygments_lexer": "ipython3",
   "version": "3.5.2"
  }
 },
 "nbformat": 4,
 "nbformat_minor": 2
}
