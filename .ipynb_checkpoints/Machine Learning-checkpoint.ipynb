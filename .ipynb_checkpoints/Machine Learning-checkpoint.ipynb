{
 "cells": [
  {
   "cell_type": "markdown",
   "metadata": {},
   "source": [
    "# Loading data set\n",
    "Load datasets and encode categorical atributes"
   ]
  },
  {
   "cell_type": "code",
   "execution_count": 1,
   "metadata": {},
   "outputs": [],
   "source": [
    "#encoding:utf-8\n",
    "import pandas as pd\n",
    "import numpy as np\n",
    "from sklearn import preprocessing"
   ]
  },
  {
   "cell_type": "code",
   "execution_count": 2,
   "metadata": {},
   "outputs": [],
   "source": [
    "data = pd.read_csv('./data/use-of-force.csv', sep=\",\").set_index('ID');\n",
    "\n",
    "sCatt = {'Sex':('female', 'male'), 'Job':(0,1,2,3,4),'Housing':('free','rent','own'),'Saving accounts':('little','moderate','NF','quite rich','rich'),'Checking  account': ('little','moderate','rich','NF'), 'Purpose':('vacation/others', 'education', 'repairs', 'business', 'domestic appliances', 'furniture/equipment','car','radio/TV')}\n",
    "for att in sCatt.keys():\n",
    "    attValues = sCatt[att]\n",
    "    data = data.replace(attValues, range(len(attValues)))  \n",
    "    \n",
    "y = data['Label']\n",
    "X = data.drop('Label', axis=1)    "
   ]
  },
  {
   "cell_type": "markdown",
   "metadata": {},
   "source": [
    "# Separete data in three classes"
   ]
  },
  {
   "cell_type": "code",
   "execution_count": 3,
   "metadata": {},
   "outputs": [],
   "source": [
    "from sklearn.neighbors import KNeighborsClassifier\n",
    "\n",
    "def rescue_condensed(X, Y):\n",
    "#     knn = KNeighborsClassifier(np.floor(5*np.log10(len(data))).astype('int'))\n",
    "    knn = KNeighborsClassifier(np.floor(np.sqrt(len(data))).astype('int'))\n",
    "    knn.fit(X, Y)\n",
    "    out = knn.predict(X)\n",
    "\n",
    "    # get those in the overlap region\n",
    "    selection = out != Y\n",
    "\n",
    "    # yield those in the overlap region\n",
    "#     return X[selection, :], Y[selection, :]\n",
    "    return selection"
   ]
  },
  {
   "cell_type": "code",
   "execution_count": 4,
   "metadata": {},
   "outputs": [
    {
     "name": "stdout",
     "output_type": "stream",
     "text": [
      "good:\t 687\n",
      "fuzzy:\t 287\n",
      "bad:\t 26\n"
     ]
    }
   ],
   "source": [
    "fuzzySelection = rescue_condensed(X, y)\n",
    "y[fuzzySelection] = 0\n",
    "print('good:\\t %d'%(np.sum(y==-1)))\n",
    "print('fuzzy:\\t %d'%(np.sum(y==0)))\n",
    "print('bad:\\t %d'%(np.sum(y==+1)))"
   ]
  },
  {
   "cell_type": "code",
   "execution_count": 5,
   "metadata": {},
   "outputs": [],
   "source": [
    "# fuzzySelection = rescue_condensed(X, y)\n",
    "# X = X.loc[~fuzzySelection]\n",
    "# y = y.loc[~fuzzySelection]"
   ]
  },
  {
   "cell_type": "code",
   "execution_count": 6,
   "metadata": {},
   "outputs": [],
   "source": [
    "# y = y.apply(str)\n",
    "# oneHot = pd.get_dummies(y)\n",
    "# y = pd.concat([y,oneHot],axis=1).drop('Label',axis=1)"
   ]
  },
  {
   "cell_type": "markdown",
   "metadata": {},
   "source": [
    "# Run Classifier"
   ]
  },
  {
   "cell_type": "code",
   "execution_count": 7,
   "metadata": {},
   "outputs": [
    {
     "name": "stdout",
     "output_type": "stream",
     "text": [
      "{'acc': 0.7022499999999999, 'fuzzy': 0.37331056541826113, 'bad': 0.5485119047619047, 'good': 0.8476800889900252}\n"
     ]
    }
   ],
   "source": [
    "from sklearn.discriminant_analysis import QuadraticDiscriminantAnalysis\n",
    "from sklearn.metrics import accuracy_score\n",
    "from sklearn.model_selection import train_test_split\n",
    "from sklearn.metrics import confusion_matrix\n",
    "from sklearn.metrics import accuracy_score\n",
    "\n",
    "cls = QuadraticDiscriminantAnalysis()\n",
    "nRuns = 20\n",
    "result = {'acc':0.0,'good':0.0,'fuzzy':0.0,'bad':0.0}\n",
    "for r in range(nRuns):\n",
    "    Xl, Xt, yl, yt = train_test_split(X, y, test_size=0.2)\n",
    "\n",
    "    cls.fit(Xl, yl)    \n",
    "    yh = []\n",
    "    for i in range(len(yt)):\n",
    "        xi = Xt.iloc[i].values.reshape(1, -1)     \n",
    "        yh.append(cls.predict(xi)[0])  \n",
    "    cmat = confusion_matrix(yt, yh)  \n",
    "    \n",
    "    D = cmat.diagonal()\n",
    "    S = cmat.sum(axis=1)\n",
    "    \n",
    "    result['good'] += (D[0].astype('float')/S[0])/nRuns\n",
    "    result['fuzzy'] += (D[1].astype('float')/S[1])/nRuns\n",
    "    result['bad'] += (D[2].astype('float')/S[2])/nRuns\n",
    "    result['acc'] += accuracy_score(yt, yh)/nRuns    \n",
    "print(result)    "
   ]
  },
  {
   "cell_type": "code",
   "execution_count": null,
   "metadata": {},
   "outputs": [],
   "source": []
  }
 ],
 "metadata": {
  "kernelspec": {
   "display_name": "Python 2",
   "language": "python",
   "name": "python2"
  },
  "language_info": {
   "codemirror_mode": {
    "name": "ipython",
    "version": 2
   },
   "file_extension": ".py",
   "mimetype": "text/x-python",
   "name": "python",
   "nbconvert_exporter": "python",
   "pygments_lexer": "ipython2",
   "version": "2.7.12"
  }
 },
 "nbformat": 4,
 "nbformat_minor": 2
}
