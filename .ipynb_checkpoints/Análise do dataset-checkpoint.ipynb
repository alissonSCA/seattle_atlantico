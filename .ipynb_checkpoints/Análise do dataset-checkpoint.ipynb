{
 "cells": [
  {
   "cell_type": "code",
   "execution_count": 1,
   "metadata": {},
   "outputs": [],
   "source": [
    "#encoding:utf-8\n",
    "import pandas as pd\n",
    "import numpy as np"
   ]
  },
  {
   "cell_type": "code",
   "execution_count": 14,
   "metadata": {},
   "outputs": [
    {
     "name": "stdout",
     "output_type": "stream",
     "text": [
      "Loading Dataset...\n",
      "linhas = 1535\tcolunas = 3263\n"
     ]
    }
   ],
   "source": [
    "print(\"Loading Dataset...\")\n",
    "data = pd.read_csv('./resources/cat_tfidf.csv', sep=\";\")\n",
    "[N, D] = data.shape\n",
    "print('linhas = %d\\tcolunas = %d' % (N,D))"
   ]
  },
  {
   "cell_type": "code",
   "execution_count": 17,
   "metadata": {},
   "outputs": [
    {
     "data": {
      "image/png": "[encoded data removed]",
      "text/plain": [
       "<matplotlib.figure.Figure at 0x7fa8e227a5f8>"
      ]
     },
     "metadata": {},
     "output_type": "display_data"
    }
   ],
   "source": [
    "import matplotlib.pyplot as plt\n",
    "plt.figure(1)\n",
    "# plt.subplot(231)\n",
    "plt.title('Sexo')\n",
    "h = plt.hist(data.iloc[:,0], bins = 2)\n",
    "print(np.unique(data.iloc[:,0]))\n",
    "# plt.subplot(232)\n",
    "# plt.title('CID Principal')\n",
    "# plt.hist(data.iloc[:,1], bins = 15)\n",
    "# plt.subplot(233)\n",
    "# plt.title('Seg. Corporal')\n",
    "# plt.hist(data.iloc[:,2], bins = 15)\n",
    "# plt.subplot(234)\n",
    "# plt.title('Prestador')\n",
    "# plt.hist(data.iloc[:,3], bins = 15)\n",
    "# plt.subplot(235)\n",
    "# plt.title('Tipo Ressonancia')\n",
    "# plt.hist(data.iloc[:,4], bins = 15)\n",
    "# plt.subplot(236)\n",
    "# plt.title('Resposta')\n",
    "# plt.hist(data.iloc[:,D-1], bins = 15)\n",
    "# plt.show"
   ]
  },
  {
   "cell_type": "code",
   "execution_count": null,
   "metadata": {},
   "outputs": [],
   "source": []
  }
 ],
 "metadata": {
  "kernelspec": {
   "display_name": "Python 2",
   "language": "python",
   "name": "python2"
  },
  "language_info": {
   "codemirror_mode": {
    "name": "ipython",
    "version": 3
   },
   "file_extension": ".py",
   "mimetype": "text/x-python",
   "name": "python",
   "nbconvert_exporter": "python",
   "pygments_lexer": "ipython3",
   "version": "3.5.2"
  }
 },
 "nbformat": 4,
 "nbformat_minor": 2
}
