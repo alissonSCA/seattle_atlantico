{
 "cells": [
  {
   "cell_type": "markdown",
   "metadata": {},
   "source": [
    "# Loading data set\n",
    "Load datasets and encode categorical atributes"
   ]
  },
  {
   "cell_type": "code",
   "execution_count": 34,
   "metadata": {},
   "outputs": [],
   "source": [
    "#encoding:utf-8\n",
    "import pandas as pd\n",
    "import numpy as np\n",
    "from sklearn.impute import SimpleImputer"
   ]
  },
  {
   "cell_type": "code",
   "execution_count": 35,
   "metadata": {},
   "outputs": [],
   "source": [
    "data = pd.read_csv('./data/use-of-force.csv', sep=\",\").set_index('ID');"
   ]
  },
  {
   "cell_type": "markdown",
   "metadata": {},
   "source": [
    "# Tratamento dos dados faltantes\n",
    "\n",
    "Algumas colunas do dataset possuem dados faltantes (missing data). Elas aparecem na coluna das delegacias, dos setores, dos beats, da raça e do gênero. Todas as colunas com missing data são categóricas.\n",
    "\n",
    "Dados faltantes podem ser aleatórios ou não aleatórios. Dizemos que o dado é faltante não aleatório quando o fato da informação não estar preenchida é, em si, relevante. Por exemplo, Imagine que os policiais de uma determinada delegacia estivessem evitando de preencher o campo \"Precinct\" para ficar com uma estatística mais favorável. Nesse caso, o fato do campo \"Precinct\" não estar preenchido seria um indicio de que a ocorrência foi naquela delegacia. \n",
    "\n",
    "Apenas analisando os dados, não é possível afirmar se os dados faltantes são aleatórios ou não. Porém, eles estão presentes em uma quantidade significativa dos registros. Considerando que a amostra que possuimos é representativa, e em machine learning nós sempre fazemos essa suposição, então o nosso classificador será submetido ao trabalho de classificar dados faltantes com frequencia não despresível.\n",
    "\n",
    "## Estratégia adotada\n",
    "\n",
    "Neste trabalho, consideraremos que a ausência dos dados é uma nova classe de valores possíveis para aquele atribulto. Como em uma das classes, alguns registros possuem o valor **'-'** informado, adotaremos esse padrão para todos. Assim, o campo gênero, por exemplo, poderá ter os valores: **Masculino**, **Feminino** e **-**. "
   ]
  },
  {
   "cell_type": "code",
   "execution_count": 36,
   "metadata": {},
   "outputs": [],
   "source": [
    "imp = SimpleImputer(strategy=\"constant\", fill_value='-');\n",
    "data = imp.fit_transform(data);\n",
    "[N, D] = np.shape(data);"
   ]
  },
  {
   "cell_type": "code",
   "execution_count": 37,
   "metadata": {},
   "outputs": [],
   "source": [
    "# Separate data: input and target\n",
    "T = data[:,1];\n",
    "X = data[:,2:];"
   ]
  },
  {
   "cell_type": "markdown",
   "metadata": {},
   "source": [
    "# Separete data in three classes"
   ]
  },
  {
   "cell_type": "code",
   "execution_count": 3,
   "metadata": {},
   "outputs": [],
   "source": [
    "from sklearn.neighbors import KNeighborsClassifier\n",
    "\n",
    "def rescue_condensed(X, Y):\n",
    "#     knn = KNeighborsClassifier(np.floor(5*np.log10(len(data))).astype('int'))\n",
    "    knn = KNeighborsClassifier(np.floor(np.sqrt(len(data))).astype('int'))\n",
    "    knn.fit(X, Y)\n",
    "    out = knn.predict(X)\n",
    "\n",
    "    # get those in the overlap region\n",
    "    selection = out != Y\n",
    "\n",
    "    # yield those in the overlap region\n",
    "#     return X[selection, :], Y[selection, :]\n",
    "    return selection"
   ]
  },
  {
   "cell_type": "code",
   "execution_count": 4,
   "metadata": {},
   "outputs": [
    {
     "name": "stdout",
     "output_type": "stream",
     "text": [
      "good:\t 687\n",
      "fuzzy:\t 287\n",
      "bad:\t 26\n"
     ]
    }
   ],
   "source": [
    "fuzzySelection = rescue_condensed(X, y)\n",
    "y[fuzzySelection] = 0\n",
    "print('good:\\t %d'%(np.sum(y==-1)))\n",
    "print('fuzzy:\\t %d'%(np.sum(y==0)))\n",
    "print('bad:\\t %d'%(np.sum(y==+1)))"
   ]
  },
  {
   "cell_type": "code",
   "execution_count": 5,
   "metadata": {},
   "outputs": [],
   "source": [
    "# fuzzySelection = rescue_condensed(X, y)\n",
    "# X = X.loc[~fuzzySelection]\n",
    "# y = y.loc[~fuzzySelection]"
   ]
  },
  {
   "cell_type": "code",
   "execution_count": 6,
   "metadata": {},
   "outputs": [],
   "source": [
    "# y = y.apply(str)\n",
    "# oneHot = pd.get_dummies(y)\n",
    "# y = pd.concat([y,oneHot],axis=1).drop('Label',axis=1)"
   ]
  },
  {
   "cell_type": "markdown",
   "metadata": {},
   "source": [
    "# Run Classifier"
   ]
  },
  {
   "cell_type": "code",
   "execution_count": 7,
   "metadata": {},
   "outputs": [
    {
     "name": "stdout",
     "output_type": "stream",
     "text": [
      "{'acc': 0.7022499999999999, 'fuzzy': 0.37331056541826113, 'bad': 0.5485119047619047, 'good': 0.8476800889900252}\n"
     ]
    }
   ],
   "source": [
    "from sklearn.discriminant_analysis import QuadraticDiscriminantAnalysis\n",
    "from sklearn.metrics import accuracy_score\n",
    "from sklearn.model_selection import train_test_split\n",
    "from sklearn.metrics import confusion_matrix\n",
    "from sklearn.metrics import accuracy_score\n",
    "\n",
    "cls = QuadraticDiscriminantAnalysis()\n",
    "nRuns = 20\n",
    "result = {'acc':0.0,'good':0.0,'fuzzy':0.0,'bad':0.0}\n",
    "for r in range(nRuns):\n",
    "    Xl, Xt, yl, yt = train_test_split(X, y, test_size=0.2)\n",
    "\n",
    "    cls.fit(Xl, yl)    \n",
    "    yh = []\n",
    "    for i in range(len(yt)):\n",
    "        xi = Xt.iloc[i].values.reshape(1, -1)     \n",
    "        yh.append(cls.predict(xi)[0])  \n",
    "    cmat = confusion_matrix(yt, yh)  \n",
    "    \n",
    "    D = cmat.diagonal()\n",
    "    S = cmat.sum(axis=1)\n",
    "    \n",
    "    result['good'] += (D[0].astype('float')/S[0])/nRuns\n",
    "    result['fuzzy'] += (D[1].astype('float')/S[1])/nRuns\n",
    "    result['bad'] += (D[2].astype('float')/S[2])/nRuns\n",
    "    result['acc'] += accuracy_score(yt, yh)/nRuns    \n",
    "print(result)    "
   ]
  },
  {
   "cell_type": "code",
   "execution_count": null,
   "metadata": {},
   "outputs": [],
   "source": []
  }
 ],
 "metadata": {
  "kernelspec": {
   "display_name": "Python 2",
   "language": "python",
   "name": "python2"
  },
  "language_info": {
   "codemirror_mode": {
    "name": "ipython",
    "version": 2
   },
   "file_extension": ".py",
   "mimetype": "text/x-python",
   "name": "python",
   "nbconvert_exporter": "python",
   "pygments_lexer": "ipython2",
   "version": "2.7.12"
  }
 },
 "nbformat": 4,
 "nbformat_minor": 2
}
